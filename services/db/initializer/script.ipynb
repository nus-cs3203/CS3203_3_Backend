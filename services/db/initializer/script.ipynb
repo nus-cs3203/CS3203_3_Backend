{
 "cells": [
  {
   "cell_type": "code",
   "execution_count": 2,
   "metadata": {},
   "outputs": [
    {
     "name": "stdout",
     "output_type": "stream",
     "text": [
      "Categories inserted successfully!\n",
      "Data successfully inserted into MongoDB!\n"
     ]
    }
   ],
   "source": [
    "import pandas as pd\n",
    "from pymongo import MongoClient\n",
    "\n",
    "MONGO_URI = \"mongodb://localhost:27017/\"\n",
    "DB_NAME = \"CS3203\"\n",
    "COLLECTION_CATEGORIES = \"categories\"\n",
    "COLLECTION_COMPLAINTS = \"complaints\"\n",
    "\n",
    "categories = {\n",
    "    \"Public Safety\",\n",
    "    \"Financial\",\n",
    "    \"Transportation\",\n",
    "    \"Technology\",\n",
    "    \"Food Services\",\n",
    "    \"Housing\",\n",
    "    \"Employment\",\n",
    "    \"Retail\",\n",
    "    \"Healthcare\",\n",
    "    \"Social Services\",\n",
    "    \"Education\",\n",
    "    \"Environmental\",\n",
    "    \"Noise\",\n",
    "    \"Infrastructure\",\n",
    "    \"Others\"\n",
    "}\n",
    "\n",
    "client = MongoClient(MONGO_URI)\n",
    "db = client[DB_NAME]\n",
    "categories_collection = db[COLLECTION_CATEGORIES]\n",
    "\n",
    "data = [\n",
    "    {\"category\": \"Public Safety\", \"color\": \"#FF5733\"},  # Vibrant Red-Orange\n",
    "    {\"category\": \"Financial\", \"color\": \"#2E86C1\"},  # Deep Blue\n",
    "    {\"category\": \"Transportation\", \"color\": \"#1ABC9C\"},  # Teal\n",
    "    {\"category\": \"Technology\", \"color\": \"#8E44AD\"},  # Purple\n",
    "    {\"category\": \"Food Services\", \"color\": \"#E67E22\"},  # Warm Orange\n",
    "    {\"category\": \"Housing\", \"color\": \"#27AE60\"},  # Forest Green\n",
    "    {\"category\": \"Employment\", \"color\": \"#F1C40F\"},  # Bright Yellow\n",
    "    {\"category\": \"Retail\", \"color\": \"#D35400\"},  # Burnt Orange\n",
    "    {\"category\": \"Healthcare\", \"color\": \"#E74C3C\"},  # Bold Red\n",
    "    {\"category\": \"Social Services\", \"color\": \"#5DADE2\"},  # Sky Blue\n",
    "    {\"category\": \"Education\", \"color\": \"#9B59B6\"},  # Soft Purple\n",
    "    {\"category\": \"Environmental\", \"color\": \"#2ECC71\"},  # Fresh Green\n",
    "    {\"category\": \"Noise\", \"color\": \"#F39C12\"},  # Golden Yellow\n",
    "    {\"category\": \"Infrastructure\", \"color\": \"#34495E\"},  # Dark Gray-Blue\n",
    "    {\"category\": \"Others\", \"color\": \"#95A5A6\"}  # Neutral Gray\n",
    "]\n",
    "\n",
    "categories_collection.drop()\n",
    "categories_collection.insert_many(data)\n",
    "\n",
    "print(\"Categories inserted successfully!\")\n",
    "\n",
    "raw_df = pd.read_csv(\"./data/sentiment_scored_2023_data.csv\")\n",
    "raw_df = raw_df[raw_df[\"Intent Category\"] == \"Direct Complaint\"]\n",
    "clean_df = pd.DataFrame()\n",
    "clean_df[\"id\"] = raw_df[\"name\"]\n",
    "clean_df[\"title\"] = raw_df[\"title\"]\n",
    "clean_df[\"description\"] = raw_df[\"selftext\"].fillna(\"\")\n",
    "clean_df[\"category\"] = raw_df[\"Domain Category\"].apply(lambda i: i if i in categories else \"Others\")\n",
    "clean_df[\"date\"] = pd.to_datetime(raw_df[\"created_utc\"])\n",
    "clean_df[\"sentiment\"] = raw_df[\"sentiment_title_selftext_polarity\"]\n",
    "clean_df[\"url\"] = raw_df[\"name\"].apply(lambda i: f\"https://www.reddit.com/r/singapore/comments/{i}\")\n",
    "clean_df[\"source\"] = \"Reddit\"\n",
    "clean_df = clean_df.dropna()\n",
    "\n",
    "client = MongoClient(MONGO_URI)  \n",
    "db = client[DB_NAME]  \n",
    "complaints_collection = db[COLLECTION_COMPLAINTS]  \n",
    "\n",
    "data = clean_df.to_dict(orient=\"records\")\n",
    "\n",
    "complaints_collection.drop()\n",
    "complaints_collection.insert_many(data)\n",
    "complaints_collection.create_index([(\"title\", \"text\"), (\"description\", \"text\")])\n",
    "\n",
    "print(\"Data successfully inserted into MongoDB!\")"
   ]
  }
 ],
 "metadata": {
  "kernelspec": {
   "display_name": "base",
   "language": "python",
   "name": "python3"
  },
  "language_info": {
   "codemirror_mode": {
    "name": "ipython",
    "version": 3
   },
   "file_extension": ".py",
   "mimetype": "text/x-python",
   "name": "python",
   "nbconvert_exporter": "python",
   "pygments_lexer": "ipython3",
   "version": "3.11.5"
  }
 },
 "nbformat": 4,
 "nbformat_minor": 2
}
