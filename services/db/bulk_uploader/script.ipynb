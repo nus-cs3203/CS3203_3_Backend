{
 "cells": [
  {
   "cell_type": "code",
   "execution_count": null,
   "metadata": {},
   "outputs": [
    {
     "name": "stdout",
     "output_type": "stream",
     "text": [
      "Data successfully inserted into MongoDB!\n"
     ]
    }
   ],
   "source": [
    "import pandas as pd\n",
    "from pymongo import MongoClient\n",
    "\n",
    "MONGO_URI = \"mongodb://localhost:27017/\"\n",
    "DB_NAME = \"CS3203\"\n",
    "COLLECTION_COMPLAINTS = \"complaints\"\n",
    "\n",
    "raw_df = pd.read_csv(\"./data/sentiment_scored_2023_data.csv\")\n",
    "raw_df = raw_df[raw_df[\"Intent Category\"] == \"Direct Complaint\"]\n",
    "clean_df = pd.DataFrame()\n",
    "clean_df[\"id\"] = raw_df[\"name\"]\n",
    "clean_df[\"title\"] = raw_df[\"title\"]\n",
    "clean_df[\"description\"] = raw_df[\"selftext\"].fillna(\"\")\n",
    "clean_df[\"category\"] = raw_df[\"Domain Category\"]\n",
    "clean_df[\"date\"] = pd.to_datetime(raw_df[\"created_utc\"])\n",
    "clean_df[\"sentiment\"] = raw_df[\"sentiment_title_selftext_polarity\"].fillna(0)\n",
    "clean_df[\"url\"] = raw_df[\"name\"].apply(lambda i: f\"https://www.reddit.com/r/singapore/comments/{i}\")\n",
    "clean_df[\"source\"] = \"Reddit\"\n",
    "clean_df\n",
    "\n",
    "client = MongoClient(MONGO_URI)  \n",
    "db = client[DB_NAME]  \n",
    "collection = db[COLLECTION_COMPLAINTS]  \n",
    "\n",
    "data = clean_df.to_dict(orient=\"records\")\n",
    "\n",
    "collection.insert_many(data)\n",
    "\n",
    "print(\"Data successfully inserted into MongoDB!\")\n"
   ]
  }
 ],
 "metadata": {
  "kernelspec": {
   "display_name": "base",
   "language": "python",
   "name": "python3"
  },
  "language_info": {
   "codemirror_mode": {
    "name": "ipython",
    "version": 3
   },
   "file_extension": ".py",
   "mimetype": "text/x-python",
   "name": "python",
   "nbconvert_exporter": "python",
   "pygments_lexer": "ipython3",
   "version": "3.11.5"
  }
 },
 "nbformat": 4,
 "nbformat_minor": 2
}
